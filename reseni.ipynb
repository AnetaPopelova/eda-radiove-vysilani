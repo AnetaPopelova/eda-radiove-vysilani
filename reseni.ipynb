{
 "cells": [
  {
   "cell_type": "markdown",
   "metadata": {},
   "source": [
    "0) Načtěte soubor do seznamu (list). Ano, už tady uplatníte for cykly. 🙂\n"
   ]
  },
  {
   "cell_type": "code",
   "execution_count": 2,
   "metadata": {},
   "outputs": [],
   "source": [
    "import json\n",
    "\n",
    "\n",
    "data = []\n",
    "\n",
    "with open(\"hrane-skladby-2022-11-24.jsonl\", encoding=\"utf8\") as f:\n",
    "    for line in f:\n",
    "        zaznam = json.loads(line)\n",
    "        data.append(zaznam)"
   ]
  },
  {
   "cell_type": "markdown",
   "metadata": {},
   "source": [
    "1) Zjistěte, kolik skladeb celkem soubor obsahuje.\n"
   ]
  },
  {
   "cell_type": "code",
   "execution_count": 3,
   "metadata": {},
   "outputs": [
    {
     "name": "stdout",
     "output_type": "stream",
     "text": [
      "Počet řádků: 109981\n"
     ]
    }
   ],
   "source": [
    "print(\"Počet řádků:\", len(data))"
   ]
  },
  {
   "cell_type": "markdown",
   "metadata": {},
   "source": [
    "2) Zjistěte, jaké je zastoupení rádií v tomto souboru (čistě podle počtu skladeb)."
   ]
  },
  {
   "cell_type": "code",
   "execution_count": 4,
   "metadata": {},
   "outputs": [
    {
     "name": "stdout",
     "output_type": "stream",
     "text": [
      "Counter({'Metal Heart Radio': 46058, 'Rádio Beat': 32115, 'Metal Heart Radio - Soft Channel': 31808})\n",
      "2b)\n",
      "{'Rádio Beat': 32115, 'Metal Heart Radio - Soft Channel': 31808, 'Metal Heart Radio': 46058}\n"
     ]
    }
   ],
   "source": [
    "from collections import Counter\n",
    "\n",
    "stats = Counter()\n",
    "for item in data:\n",
    "    nazev_stanice = item[\"station\"]\n",
    "    stats[nazev_stanice] += 1\n",
    "print(stats)\n",
    "\n",
    "\n",
    "print(\"2b)\")\n",
    "\n",
    "statistiky = {}\n",
    "for item in data:\n",
    "    nazev_stanice = item[\"station\"]\n",
    "    if nazev_stanice not in statistiky:\n",
    "        statistiky[nazev_stanice] = 0\n",
    "\n",
    "    statistiky[nazev_stanice] += 1\n",
    "print(statistiky)"
   ]
  },
  {
   "cell_type": "markdown",
   "metadata": {},
   "source": [
    "3) Zjistěte, kolikrát hrála na Rádiu Beat skupina Accept (pozor, je v tom drobný háček). 🎣 😊"
   ]
  },
  {
   "cell_type": "code",
   "execution_count": 5,
   "metadata": {},
   "outputs": [
    {
     "name": "stdout",
     "output_type": "stream",
     "text": [
      "Accept na Rádiu Beat: 134\n",
      "Accept na Rádiu Beat: 134\n"
     ]
    }
   ],
   "source": [
    "accept = 0\n",
    "for item in data:\n",
    "    skladba_accept = item[\"title\"].lower().startswith(\"accept\")\n",
    "    if item[\"code\"] == \"RB\" and skladba_accept:\n",
    "        accept += 1\n",
    "print(\"Accept na Rádiu Beat:\", accept)\n",
    "\n",
    "\n",
    "accept = 0\n",
    "for item in data:\n",
    "    skladba_accept = \"accept\" in item[\"title\"].lower()\n",
    "    if item[\"code\"] == \"RB\" and skladba_accept:\n",
    "        accept += 1\n",
    "print(\"Accept na Rádiu Beat:\", accept)"
   ]
  },
  {
   "cell_type": "markdown",
   "metadata": {},
   "source": [
    "4) Uložte do souboru všechna přehrání skladeb skupiny Iron Maiden (kompletní data, tzn. včetně stanice i času)."
   ]
  },
  {
   "cell_type": "code",
   "execution_count": 6,
   "metadata": {},
   "outputs": [
    {
     "name": "stdout",
     "output_type": "stream",
     "text": [
      "Uloženo 619 výskytů skladeb Iron Maiden\n"
     ]
    }
   ],
   "source": [
    "iron_maiden = []\n",
    "for item in data:\n",
    "    skladba_im = item[\"title\"].lower().startswith(\"iron maiden\")\n",
    "    if skladba_im:\n",
    "        iron_maiden.append(item)\n",
    "\n",
    "with open(\"iron_maiden.json\", \"w\") as f:\n",
    "    json.dump(iron_maiden, f)\n",
    "\n",
    "print(\"Uloženo\", len(iron_maiden), \"výskytů skladeb Iron Maiden\")"
   ]
  },
  {
   "cell_type": "markdown",
   "metadata": {},
   "source": [
    "6) 🦸‍♀️ SUPERHERO BONUS: Zjistěte pestrost programu jednotlivých stanic: kolik různých\n",
    "    interpretů hrálo na jednotlivých stanicích? Doporučuji využít datové typy dict\n",
    "    a set. Při ukládání interpretů za jednotlivá rádia vám množiny (set) zajistí\n",
    "    jejich unikátnost. K přidávání prvků do setů slouží metoda add:"
   ]
  },
  {
   "cell_type": "code",
   "execution_count": 7,
   "metadata": {},
   "outputs": [
    {
     "name": "stdout",
     "output_type": "stream",
     "text": [
      "Rádio Beat: 1010 interpretů\n",
      "Metal Heart Radio - Soft Channel: 108 interpretů\n",
      "Metal Heart Radio: 1498 interpretů\n"
     ]
    }
   ],
   "source": [
    "interpreti_podle_radii = {}\n",
    "for item in data:\n",
    "    nazev_stanice = item[\"station\"]\n",
    "\n",
    "    # pokud vidím stanici poprvé, připravím si prázdnou množinu\n",
    "    if nazev_stanice not in interpreti_podle_radii:\n",
    "        interpreti_podle_radii[nazev_stanice] = set()\n",
    "\n",
    "    # připravím si interpreta skladby\n",
    "    skladba = item[\"title\"].lower()\n",
    "    rozdeleno = skladba.split(\" - \")\n",
    "    interpret = rozdeleno[0]\n",
    "\n",
    "    # přidám interpreta do množiny interpretů hraných na dané stanici\n",
    "    interpreti_podle_radii[nazev_stanice].add(interpret)\n",
    "\n",
    "# vypisu název stanice a počet prvků v množině\n",
    "for stanice, interpreti in interpreti_podle_radii.items():\n",
    "    print(f\"{stanice}: {len(interpreti)} interpretů\")"
   ]
  }
 ],
 "metadata": {
  "kernelspec": {
   "display_name": "Python 3.10.1 64-bit",
   "language": "python",
   "name": "python3"
  },
  "language_info": {
   "codemirror_mode": {
    "name": "ipython",
    "version": 3
   },
   "file_extension": ".py",
   "mimetype": "text/x-python",
   "name": "python",
   "nbconvert_exporter": "python",
   "pygments_lexer": "ipython3",
   "version": "3.10.1"
  },
  "orig_nbformat": 4,
  "vscode": {
   "interpreter": {
    "hash": "aee8b7b246df8f9039afb4144a1f6fd8d2ca17a180786b69acc140d282b71a49"
   }
  }
 },
 "nbformat": 4,
 "nbformat_minor": 2
}
